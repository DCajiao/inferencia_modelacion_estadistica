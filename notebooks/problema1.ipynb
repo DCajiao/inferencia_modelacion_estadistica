{
 "cells": [
  {
   "cell_type": "markdown",
   "metadata": {},
   "source": [
    "#### 1. Problema: Seleccionar una variable categórica como factor y una variable continua como variable dependiente"
   ]
  },
  {
   "cell_type": "markdown",
   "metadata": {},
   "source": [
    "Supongan que están interesados en investigar si hay diferencias significativas en la variable dependiente entre al menos tres grupos que ustedes escojan de la base de datos del \"Census at School\".\n",
    "\n",
    "**Pasos:**\n",
    "\n",
    "1. **Análisis de Varianza (ANOVA)**: Primero, realizar un ANOVA para determinar si hay diferencias significativas en la variable dependiente entre los diferentes grupos. Deben proporcionar el código de cómo llegaron a las tablas de resumen y ANOVA (ver ejemplo en clase).\n",
    "2. **Post-ANOVA**: Si el resultado del ANOVA es significativo, realizar un análisis post-hoc para determinar qué grupos específicos difieren en la variable dependiente. Usar la prueba LSD de Fisher.\n",
    "3. **Intervalos de Confianza**: Calcular los intervalos de confianza para las diferencias en la variable dependiente entre los grupos. Esto les dará una idea de la incertidumbre asociada a las estimaciones de las diferencias.\n",
    "4. **Gráficas**: Finalmente, visualizar los resultados utilizando un boxplot de la variable dependiente entre los diferentes grupos para visualizar las diferencias. También crear un gráfico de los intervalos de confianza para visualizar la incertidumbre de las estimaciones."
   ]
  },
  {
   "cell_type": "code",
   "execution_count": 33,
   "metadata": {},
   "outputs": [],
   "source": [
    "#import the necesari libraries\n",
    "import pandas as pd\n",
    "import numpy as np \n",
    "import matplotlib.pyplot as plt\n",
    "import re\n",
    "import scipy.stats as stats\n",
    "import statsmodels.api as sm\n",
    "from statsmodels.formula.api import ols\n",
    "import seaborn as sns"
   ]
  },
  {
   "cell_type": "code",
   "execution_count": 34,
   "metadata": {},
   "outputs": [],
   "source": [
    "df_alabama, df_florida, df_massachusetts = pd.read_csv(\"../data/rawdata/Alabama.csv\", encoding=\"UTF-8\"), pd.read_csv(\"../data/rawdata/Florida.csv\", encoding=\"UTF-8\"), pd.read_csv(\"../data/rawdata/Massachusetts.csv\", encoding=\"UTF-8\")\n",
    "#Cargar los datos de los 3 datasets en python pandas"
   ]
  },
  {
   "cell_type": "code",
   "execution_count": 49,
   "metadata": {},
   "outputs": [
    {
     "ename": "IndentationError",
     "evalue": "expected an indented block after 'if' statement on line 17 (2859546344.py, line 18)",
     "output_type": "error",
     "traceback": [
      "\u001b[1;36m  Cell \u001b[1;32mIn[49], line 18\u001b[1;36m\u001b[0m\n\u001b[1;33m    return number[0]\u001b[0m\n\u001b[1;37m    ^\u001b[0m\n\u001b[1;31mIndentationError\u001b[0m\u001b[1;31m:\u001b[0m expected an indented block after 'if' statement on line 17\n"
     ]
    }
   ],
   "source": [
    "def Foot_to_centimeters(row): #Funcion para la estandarizacion y transformacion de los datos sobre la altura de los jovenes\n",
    "    try:\n",
    "        expresion = r\"\\d+\" #expresion regular que usaremos para obtener todos los grupos de numeros de un string\n",
    "        if type(row) is float:\n",
    "            return row\n",
    "        if (\"'\" in row) or ('\"' in row) or (\"/\" in row): #Transforma los datos dados en pies a centimetros\n",
    "            number = re.findall(expresion, row)\n",
    "            if len(number) < 2:\n",
    "                number = int(number[0])* 30.48\n",
    "                return number\n",
    "            number = int(number[0]) + int(number[1])/10\n",
    "            number *= 30.48\n",
    "            return number\n",
    "        if (\"cm\" in row) or (\"ft\" in row): #saca los numeros cuando se han ingresado los datos con su unidad dde medida\n",
    "            number = re.findall(expresion, row)\n",
    "            if \"ft in row\":\n",
    "                if len(number) < 2:\n",
    "                    return number[0]*30.48\n",
    "                return ((number[0])+(number[1]/10))*30.48\n",
    "            return number[0]\n",
    "        if \",\" in row and (len(re.findall(r\"\\d+\", row)) == 2):# saca los numero cuando en vez de poner ' usan ,\n",
    "            number = re.findall(expresion, row)\n",
    "            number = int(number[0]) + int(number[1])\n",
    "            number *= 30.48\n",
    "            return number\n",
    "        try:\n",
    "\n",
    "            number = float(row)\n",
    "            return number\n",
    "        except ValueError:\n",
    "            print(f\"No es un número decimal : {row}\")\n",
    "    except Exception as err:\n",
    "        print(f\"fake : {row}\")\n",
    "        print(err)"
   ]
  },
  {
   "cell_type": "code",
   "execution_count": 36,
   "metadata": {},
   "outputs": [],
   "source": [
    "df_alabama.Height_cm = df_alabama.Height_cm.apply(Foot_to_centimeters)\n",
    "df_florida[\"Height_cm\"] = df_florida[\"Height_cm\"].apply(Foot_to_centimeters)\n",
    "df_massachusetts[\"Height_cm\"] = df_florida[\"Height_cm\"].apply(Foot_to_centimeters) #Aplicamos la transformacion de la columna a cada dataset"
   ]
  },
  {
   "cell_type": "code",
   "execution_count": 37,
   "metadata": {},
   "outputs": [],
   "source": [
    "df_complete = pd.concat([df_florida, df_alabama, df_massachusetts]) #Hacemos la union de los datasets "
   ]
  },
  {
   "cell_type": "code",
   "execution_count": 38,
   "metadata": {},
   "outputs": [],
   "source": [
    "df_complete = df_complete[~df_complete[\"Height_cm\"].isnull()] # Hacemos el dataset sin valores nulos en la columna de la altura"
   ]
  },
  {
   "cell_type": "code",
   "execution_count": 39,
   "metadata": {},
   "outputs": [
    {
     "data": {
      "text/plain": [
       "0      182.0\n",
       "1      163.0\n",
       "2      182.0\n",
       "3      183.5\n",
       "4      175.0\n",
       "       ...  \n",
       "495     10.0\n",
       "496      5.0\n",
       "497    176.0\n",
       "498    172.0\n",
       "499    150.0\n",
       "Name: Height_cm, Length: 1442, dtype: object"
      ]
     },
     "execution_count": 39,
     "metadata": {},
     "output_type": "execute_result"
    }
   ],
   "source": [
    "df_complete.Height_cm"
   ]
  },
  {
   "cell_type": "code",
   "execution_count": 40,
   "metadata": {},
   "outputs": [
    {
     "data": {
      "text/plain": [
       "(1442, 60)"
      ]
     },
     "execution_count": 40,
     "metadata": {},
     "output_type": "execute_result"
    }
   ],
   "source": [
    "df_complete.shape"
   ]
  },
  {
   "cell_type": "code",
   "execution_count": 41,
   "metadata": {},
   "outputs": [],
   "source": [
    "df_complete.reset_index(inplace=True)"
   ]
  },
  {
   "cell_type": "code",
   "execution_count": 42,
   "metadata": {},
   "outputs": [
    {
     "data": {
      "text/html": [
       "<div>\n",
       "<style scoped>\n",
       "    .dataframe tbody tr th:only-of-type {\n",
       "        vertical-align: middle;\n",
       "    }\n",
       "\n",
       "    .dataframe tbody tr th {\n",
       "        vertical-align: top;\n",
       "    }\n",
       "\n",
       "    .dataframe thead th {\n",
       "        text-align: right;\n",
       "    }\n",
       "</style>\n",
       "<table border=\"1\" class=\"dataframe\">\n",
       "  <thead>\n",
       "    <tr style=\"text-align: right;\">\n",
       "      <th></th>\n",
       "      <th>Country</th>\n",
       "      <th>Region</th>\n",
       "      <th>Gender</th>\n",
       "      <th>Handed</th>\n",
       "      <th>Height_cm</th>\n",
       "      <th>Footlength_cm</th>\n",
       "      <th>Armspan_cm</th>\n",
       "      <th>Languages_spoken</th>\n",
       "      <th>Travel_to_School</th>\n",
       "      <th>Travel_time_to_School</th>\n",
       "      <th>...</th>\n",
       "      <th>Watching_TV_Hours</th>\n",
       "      <th>Paid_Work_Hours</th>\n",
       "      <th>Work_At_Home_Hours</th>\n",
       "      <th>Schoolwork_Pressure</th>\n",
       "      <th>Planned_Education_Level</th>\n",
       "      <th>Favorite_Music</th>\n",
       "      <th>Superpower</th>\n",
       "      <th>Preferred_Status</th>\n",
       "      <th>Role_Model_Type</th>\n",
       "      <th>Charity_Donation</th>\n",
       "    </tr>\n",
       "  </thead>\n",
       "  <tbody>\n",
       "    <tr>\n",
       "      <th>count</th>\n",
       "      <td>1442</td>\n",
       "      <td>1442</td>\n",
       "      <td>1432</td>\n",
       "      <td>1423</td>\n",
       "      <td>1442.0</td>\n",
       "      <td>1384</td>\n",
       "      <td>1341</td>\n",
       "      <td>1404</td>\n",
       "      <td>1396</td>\n",
       "      <td>1401</td>\n",
       "      <td>...</td>\n",
       "      <td>1251</td>\n",
       "      <td>1245</td>\n",
       "      <td>1251</td>\n",
       "      <td>1218</td>\n",
       "      <td>1269</td>\n",
       "      <td>1270</td>\n",
       "      <td>1265</td>\n",
       "      <td>1267</td>\n",
       "      <td>1271</td>\n",
       "      <td>1277</td>\n",
       "    </tr>\n",
       "    <tr>\n",
       "      <th>unique</th>\n",
       "      <td>1</td>\n",
       "      <td>3</td>\n",
       "      <td>2</td>\n",
       "      <td>3</td>\n",
       "      <td>199.0</td>\n",
       "      <td>198</td>\n",
       "      <td>305</td>\n",
       "      <td>22</td>\n",
       "      <td>8</td>\n",
       "      <td>89</td>\n",
       "      <td>...</td>\n",
       "      <td>72</td>\n",
       "      <td>88</td>\n",
       "      <td>70</td>\n",
       "      <td>3</td>\n",
       "      <td>6</td>\n",
       "      <td>13</td>\n",
       "      <td>5</td>\n",
       "      <td>4</td>\n",
       "      <td>13</td>\n",
       "      <td>8</td>\n",
       "    </tr>\n",
       "    <tr>\n",
       "      <th>top</th>\n",
       "      <td>USA</td>\n",
       "      <td>AL</td>\n",
       "      <td>Male</td>\n",
       "      <td>Right-Handed</td>\n",
       "      <td>170.0</td>\n",
       "      <td>25</td>\n",
       "      <td>160</td>\n",
       "      <td>1</td>\n",
       "      <td>Car</td>\n",
       "      <td>15</td>\n",
       "      <td>...</td>\n",
       "      <td>0</td>\n",
       "      <td>0</td>\n",
       "      <td>1</td>\n",
       "      <td>Some</td>\n",
       "      <td>Graduate degree</td>\n",
       "      <td>Rap/Hip hop</td>\n",
       "      <td>Telepathy</td>\n",
       "      <td>Happy</td>\n",
       "      <td>Relative</td>\n",
       "      <td>Health</td>\n",
       "    </tr>\n",
       "    <tr>\n",
       "      <th>freq</th>\n",
       "      <td>1442</td>\n",
       "      <td>484</td>\n",
       "      <td>748</td>\n",
       "      <td>1213</td>\n",
       "      <td>67.0</td>\n",
       "      <td>132</td>\n",
       "      <td>53</td>\n",
       "      <td>899</td>\n",
       "      <td>1062</td>\n",
       "      <td>253</td>\n",
       "      <td>...</td>\n",
       "      <td>205</td>\n",
       "      <td>348</td>\n",
       "      <td>165</td>\n",
       "      <td>568</td>\n",
       "      <td>794</td>\n",
       "      <td>408</td>\n",
       "      <td>329</td>\n",
       "      <td>708</td>\n",
       "      <td>371</td>\n",
       "      <td>384</td>\n",
       "    </tr>\n",
       "  </tbody>\n",
       "</table>\n",
       "<p>4 rows × 57 columns</p>\n",
       "</div>"
      ],
      "text/plain": [
       "       Country Region Gender        Handed  Height_cm Footlength_cm  \\\n",
       "count     1442   1442   1432          1423     1442.0          1384   \n",
       "unique       1      3      2             3      199.0           198   \n",
       "top        USA     AL   Male  Right-Handed      170.0            25   \n",
       "freq      1442    484    748          1213       67.0           132   \n",
       "\n",
       "       Armspan_cm Languages_spoken Travel_to_School Travel_time_to_School  \\\n",
       "count        1341             1404             1396                  1401   \n",
       "unique        305               22                8                    89   \n",
       "top           160                1              Car                    15   \n",
       "freq           53              899             1062                   253   \n",
       "\n",
       "        ... Watching_TV_Hours Paid_Work_Hours Work_At_Home_Hours  \\\n",
       "count   ...              1251            1245               1251   \n",
       "unique  ...                72              88                 70   \n",
       "top     ...                 0               0                  1   \n",
       "freq    ...               205             348                165   \n",
       "\n",
       "       Schoolwork_Pressure Planned_Education_Level Favorite_Music Superpower  \\\n",
       "count                 1218                    1269           1270       1265   \n",
       "unique                   3                       6             13          5   \n",
       "top                   Some         Graduate degree    Rap/Hip hop  Telepathy   \n",
       "freq                   568                     794            408        329   \n",
       "\n",
       "       Preferred_Status Role_Model_Type Charity_Donation  \n",
       "count              1267            1271             1277  \n",
       "unique                4              13                8  \n",
       "top               Happy        Relative           Health  \n",
       "freq                708             371              384  \n",
       "\n",
       "[4 rows x 57 columns]"
      ]
     },
     "execution_count": 42,
     "metadata": {},
     "output_type": "execute_result"
    }
   ],
   "source": [
    "df_complete.describe(include=\"object\")"
   ]
  },
  {
   "cell_type": "code",
   "execution_count": 43,
   "metadata": {},
   "outputs": [],
   "source": [
    "df_complete[\"Height_cm\"] = df_complete.Height_cm.astype(float)"
   ]
  },
  {
   "cell_type": "code",
   "execution_count": 44,
   "metadata": {},
   "outputs": [
    {
     "data": {
      "text/html": [
       "<div>\n",
       "<style scoped>\n",
       "    .dataframe tbody tr th:only-of-type {\n",
       "        vertical-align: middle;\n",
       "    }\n",
       "\n",
       "    .dataframe tbody tr th {\n",
       "        vertical-align: top;\n",
       "    }\n",
       "\n",
       "    .dataframe thead th {\n",
       "        text-align: right;\n",
       "    }\n",
       "</style>\n",
       "<table border=\"1\" class=\"dataframe\">\n",
       "  <thead>\n",
       "    <tr style=\"text-align: right;\">\n",
       "      <th></th>\n",
       "      <th>index</th>\n",
       "      <th>DataYear</th>\n",
       "      <th>ClassGrade</th>\n",
       "      <th>Ageyears</th>\n",
       "      <th>Height_cm</th>\n",
       "    </tr>\n",
       "  </thead>\n",
       "  <tbody>\n",
       "    <tr>\n",
       "      <th>count</th>\n",
       "      <td>1442.000000</td>\n",
       "      <td>1442.000000</td>\n",
       "      <td>1442.000000</td>\n",
       "      <td>1436.000000</td>\n",
       "      <td>1442.000000</td>\n",
       "    </tr>\n",
       "    <tr>\n",
       "      <th>mean</th>\n",
       "      <td>248.465326</td>\n",
       "      <td>2018.658807</td>\n",
       "      <td>10.880028</td>\n",
       "      <td>86.713092</td>\n",
       "      <td>176.387340</td>\n",
       "    </tr>\n",
       "    <tr>\n",
       "      <th>std</th>\n",
       "      <td>144.317405</td>\n",
       "      <td>3.590810</td>\n",
       "      <td>1.996917</td>\n",
       "      <td>2638.552497</td>\n",
       "      <td>194.140389</td>\n",
       "    </tr>\n",
       "    <tr>\n",
       "      <th>min</th>\n",
       "      <td>0.000000</td>\n",
       "      <td>2010.000000</td>\n",
       "      <td>4.000000</td>\n",
       "      <td>0.000000</td>\n",
       "      <td>1.630000</td>\n",
       "    </tr>\n",
       "    <tr>\n",
       "      <th>25%</th>\n",
       "      <td>124.000000</td>\n",
       "      <td>2016.000000</td>\n",
       "      <td>11.000000</td>\n",
       "      <td>16.000000</td>\n",
       "      <td>160.000000</td>\n",
       "    </tr>\n",
       "    <tr>\n",
       "      <th>50%</th>\n",
       "      <td>248.000000</td>\n",
       "      <td>2019.000000</td>\n",
       "      <td>12.000000</td>\n",
       "      <td>17.000000</td>\n",
       "      <td>170.100000</td>\n",
       "    </tr>\n",
       "    <tr>\n",
       "      <th>75%</th>\n",
       "      <td>374.000000</td>\n",
       "      <td>2022.000000</td>\n",
       "      <td>12.000000</td>\n",
       "      <td>18.000000</td>\n",
       "      <td>179.000000</td>\n",
       "    </tr>\n",
       "    <tr>\n",
       "      <th>max</th>\n",
       "      <td>499.000000</td>\n",
       "      <td>2024.000000</td>\n",
       "      <td>12.000000</td>\n",
       "      <td>99999.000000</td>\n",
       "      <td>5000.000000</td>\n",
       "    </tr>\n",
       "  </tbody>\n",
       "</table>\n",
       "</div>"
      ],
      "text/plain": [
       "             index     DataYear   ClassGrade      Ageyears    Height_cm\n",
       "count  1442.000000  1442.000000  1442.000000   1436.000000  1442.000000\n",
       "mean    248.465326  2018.658807    10.880028     86.713092   176.387340\n",
       "std     144.317405     3.590810     1.996917   2638.552497   194.140389\n",
       "min       0.000000  2010.000000     4.000000      0.000000     1.630000\n",
       "25%     124.000000  2016.000000    11.000000     16.000000   160.000000\n",
       "50%     248.000000  2019.000000    12.000000     17.000000   170.100000\n",
       "75%     374.000000  2022.000000    12.000000     18.000000   179.000000\n",
       "max     499.000000  2024.000000    12.000000  99999.000000  5000.000000"
      ]
     },
     "execution_count": 44,
     "metadata": {},
     "output_type": "execute_result"
    }
   ],
   "source": [
    "df_complete.describe()"
   ]
  },
  {
   "cell_type": "code",
   "execution_count": 45,
   "metadata": {},
   "outputs": [],
   "source": [
    "df_complete = df_complete[~df_complete[\"Planned_Education_Level\"].isnull()]"
   ]
  },
  {
   "cell_type": "code",
   "execution_count": 46,
   "metadata": {},
   "outputs": [],
   "source": [
    "df_complete = df_complete[df_complete[\"Height_cm\"] < 220]\n",
    "df_complete = df_complete [df_complete[\"Ageyears\"] < 24]\n",
    "df_complete = df_complete [df_complete[\"Height_cm\"] > 100]"
   ]
  },
  {
   "cell_type": "code",
   "execution_count": 47,
   "metadata": {},
   "outputs": [
    {
     "name": "stdout",
     "output_type": "stream",
     "text": [
      "                                   sum_sq      df         F    PR(>F)\n",
      "C(Planned_Education_Level)     862.910077     5.0  1.160429  0.326652\n",
      "Residual                    175343.952025  1179.0       NaN       NaN\n",
      "                Multiple Comparison of Means - Tukey HSD, FWER=0.05                \n",
      "===================================================================================\n",
      "        group1                group2        meandiff p-adj   lower    upper  reject\n",
      "-----------------------------------------------------------------------------------\n",
      "      Graduate degree           High school   2.5906 0.3458  -1.1164  6.2976  False\n",
      "      Graduate degree Less than high school  -3.3359 0.9795 -16.5544  9.8826  False\n",
      "      Graduate degree                 Other  -0.9764 0.9876  -5.2997  3.3469  False\n",
      "      Graduate degree          Some college    1.063 0.9607  -2.5654  4.6913  False\n",
      "      Graduate degree  Undergraduate degree   0.4104 0.9989  -2.6542   3.475  False\n",
      "          High school Less than high school  -5.9265 0.8155 -19.5362  7.6832  False\n",
      "          High school                 Other   -3.567 0.4121  -8.9693  1.8352  False\n",
      "          High school          Some college  -1.5276 0.9474  -6.3916  3.3363  False\n",
      "          High school  Undergraduate degree  -2.1802 0.7298  -6.6395   2.279  False\n",
      "Less than high school                 Other   2.3595 0.9966 -11.4308 16.1498  False\n",
      "Less than high school          Some college   4.3989 0.9404  -9.1896 17.9873  False\n",
      "Less than high school  Undergraduate degree   3.7463 0.9684  -9.7026 17.1952  False\n",
      "                Other          Some college   2.0394 0.8861  -3.3092  7.3879  False\n",
      "                Other  Undergraduate degree   1.3868 0.9685  -3.5966  6.3702  False\n",
      "         Some college  Undergraduate degree  -0.6526 0.9983  -5.0467  3.7415  False\n",
      "-----------------------------------------------------------------------------------\n",
      "                               mean    mean - h    mean + h\n",
      "Planned_Education_Level                                    \n",
      "Graduate degree          170.093035  169.207392  170.978678\n",
      "High school              172.683640  170.298403  175.068877\n",
      "Less than high school    166.757143  159.509464  174.004822\n",
      "Other                    169.116620  165.852945  172.380294\n",
      "Some college             171.156000  168.810491  173.501509\n",
      "Undergraduate degree     170.503410  168.753583  172.253237\n"
     ]
    },
    {
     "data": {
      "image/png": "[encoded data removed]",
      "text/plain": [
       "<Figure size 1200x600 with 2 Axes>"
      ]
     },
     "metadata": {},
     "output_type": "display_data"
    }
   ],
   "source": [
    "df_complete['Planned_Education_Level'] = df_complete['Planned_Education_Level'].astype('str')\n",
    "df_complete['Height_cm'] = df_complete['Height_cm'].astype('float')\n",
    "\n",
    "# Eliminar filas con valores NaN en las columnas relevantes\n",
    "df_complete = df_complete.dropna(subset=['Planned_Education_Level', 'Height_cm'])\n",
    "\n",
    "# ANOVA\n",
    "model = ols('Height_cm ~ C(Planned_Education_Level)', data=df_complete).fit()\n",
    "anova_table = sm.stats.anova_lm(model, typ=2)\n",
    "print(anova_table)\n",
    "\n",
    "# Post-ANOVA (Prueba LSD de Fisher)\n",
    "from statsmodels.stats.multicomp import pairwise_tukeyhsd\n",
    "\n",
    "tukey = pairwise_tukeyhsd(endog=df_complete['Height_cm'],\n",
    "                          groups=df_complete['Planned_Education_Level'],\n",
    "                          alpha=0.05)\n",
    "print(tukey)\n",
    "\n",
    "# Intervalos de Confianza\n",
    "def mean_confidence_interval(data, confidence=0.95):\n",
    "    n = len(data)\n",
    "    m, se = data.mean(), stats.sem(data)\n",
    "    h = se * stats.t.ppf((1 + confidence) / 2., n-1)\n",
    "    return pd.Series([m, m-h, m+h], index=['mean', 'mean - h', 'mean + h'])\n",
    "\n",
    "confidence_intervals = df_complete.groupby('Planned_Education_Level')['Height_cm'].apply(mean_confidence_interval).unstack()\n",
    "print(confidence_intervals)\n",
    "\n",
    "# Gráficas\n",
    "plt.figure(figsize=(12, 6))\n",
    "\n",
    "# Boxplot\n",
    "plt.subplot(1, 2, 1)\n",
    "sns.boxplot(x='Planned_Education_Level', y='Height_cm', data=df_complete)\n",
    "plt.title('Boxplot de Height_cm por Planned_Education_Level')\n",
    "plt.setp(plt.subplot(1,2,1).get_xticklabels(), rotation=-45, ha=\"left\", rotation_mode=\"anchor\")\n",
    "\n",
    "# Gráfico de Intervalos de Confianza\n",
    "plt.subplot(1, 2, 2)\n",
    "for level in confidence_intervals.index:\n",
    "    plt.errorbar(level, confidence_intervals.loc[level, 'mean'], \n",
    "                 yerr=[[confidence_intervals.loc[level, 'mean'] - confidence_intervals.loc[level, 'mean - h']], \n",
    "                       [confidence_intervals.loc[level, 'mean + h'] - confidence_intervals.loc[level, 'mean']]], \n",
    "                 fmt='o', label=f'{level} Mean CI')\n",
    "                 \n",
    "plt.setp(plt.subplot(1,2,2).get_xticklabels(), rotation=-45, ha=\"left\", rotation_mode=\"anchor\")\n",
    "plt.title('Intervalos de Confianza para Height_cm por Planned_Education_Level')\n",
    "plt.xlabel('Planned_Education_Level')\n",
    "plt.ylabel('Height_cm')\n",
    "plt.legend()\n",
    "plt.show()"
   ]
  },
  {
   "cell_type": "code",
   "execution_count": null,
   "metadata": {},
   "outputs": [],
   "source": []
  }
 ],
 "metadata": {
  "kernelspec": {
   "display_name": "venv",
   "language": "python",
   "name": "python3"
  },
  "language_info": {
   "codemirror_mode": {
    "name": "ipython",
    "version": 3
   },
   "file_extension": ".py",
   "mimetype": "text/x-python",
   "name": "python",
   "nbconvert_exporter": "python",
   "pygments_lexer": "ipython3",
   "version": "3.12.0"
  }
 },
 "nbformat": 4,
 "nbformat_minor": 2
}
