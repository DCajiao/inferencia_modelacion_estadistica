{
 "cells": [
  {
   "cell_type": "markdown",
   "metadata": {},
   "source": [
    "#### 3. Problema: Generación de datos sintéticos para la relación entre inversión publicitaria y ventas"
   ]
  },
  {
   "cell_type": "markdown",
   "metadata": {},
   "source": [
    "Imaginen que son ingenieros de datos en una empresa de investigación de mercado. Han recopilado información sobre la relación entre la inversión publicitaria (x) y las ventas de un producto (y). Sin embargo, saben que en el mundo real, las relaciones entre variables a menudo están sujetas a variaciones y ruido. Para tener en cuenta esta variabilidad, necesitan generar un conjunto de datos sintéticos más grande con ruido para simular un escenario más realista.\n",
    "\n",
    "**Pasos:**\n",
    "\n",
    "a) **Generación de Datos**:\n",
    "\n",
    "- Utilicen una función para generar 500 valores de X de manera uniforme (todos los eventos posibles son igualmente probables) entre 50 y 100.\n",
    "- Utilicen la relación lineal y = 1.4x + ϵ, donde ϵ es un término de error que representa el ruido. Agreguen este término de error para cada valor de X para introducir variabilidad en la relación.\n",
    "\n",
    "b) **Exploración de Datos**:\n",
    "\n",
    "- Visualicen los datos generados en un gráfico de dispersión (scatter plot) para comprender la relación entre x y y.\n",
    "\n",
    "c) **Aplicación de Regresión Lineal**:\n",
    "\n",
    "- Utilicen el método de los mínimos cuadrados para la regresión lineal simple que ajuste un modelo a estos datos. Grafiquen la recta junto con el diagrama de dispersión.\n",
    "- Calculen los coeficientes de correlación y de determinación para evaluar la calidad del modelo. Interpreten los resultados. ¿Cómo describen la fuerza de la relación entre y y x?\n",
    "- Construyan una tabla ANOVA para la regresión lineal.\n",
    "\n",
    "d) **Intervalos de Confianza y Pruebas de Hipótesis**:\n",
    "\n",
    "- Construyan intervalos de confianza de 95 % para los coeficientes de la regresión (pendiente e intercepto).\n",
    "- Interpreten los intervalos de confianza. ¿Qué información proporcionan sobre la estimación de los coeficientes?\n",
    "- Realicen pruebas de hipótesis para verificar si los coeficientes son estadísticamente significativos."
   ]
  }
 ],
 "metadata": {
  "language_info": {
   "name": "python"
  }
 },
 "nbformat": 4,
 "nbformat_minor": 2
}
