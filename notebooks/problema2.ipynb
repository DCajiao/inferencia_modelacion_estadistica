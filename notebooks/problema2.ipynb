{
 "cells": [
  {
   "cell_type": "markdown",
   "metadata": {},
   "source": [
    "#### 2. Problema: Leonardo da Vinci y la relación entre la distancia entre los brazos extendidos y la estatura"
   ]
  },
  {
   "cell_type": "markdown",
   "metadata": {},
   "source": [
    "Para probar lo dicho por él, usen la base de datos de los 1500 estudiantes del Census at School.\n",
    "\n",
    "**Pasos:**\n",
    "\n",
    "1. Traza una gráfica de dispersión para la distancia entre los brazos extendidos y estatura. Usa la misma escala en los ejes horizontal y vertical. Describe la relación entre las dos variables.\n",
    "2. Si da Vinci estaba en lo correcto y la distancia entre los brazos extendidos de una persona es casi igual a la estatura de esa persona, ¿cuál debe ser la pendiente de la recta de regresión?\n",
    "3. Calcula la recta de regresión para predecir la estatura con base en la distancia entre los brazos extendidos de una persona. ¿El valor de la pendiente confirma las conclusiones del inciso anterior?\n",
    "4. Si una persona tiene una distancia de 67 pulgadas entre los brazos extendidos, ¿cuál sería el pronóstico respecto a la estatura de la persona?\n",
    "5. ¿Los datos dan suficiente evidencia para indicar que hay una relación lineal entre distancia y estatura? Prueba al nivel de significancia de 5 %.\n",
    "6. Construye un intervalo de confianza de 95 % para la pendiente de la recta de medias.\n",
    "7. Si Leonardo da Vinci tenía razón y la distancia entre los brazos extendidos de una persona es casi igual a la estatura de esa persona, ¿el intervalo de confianza construido en el inciso anterior confirma esta suposición? Explica."
   ]
  }
 ],
 "metadata": {
  "language_info": {
   "name": "python"
  }
 },
 "nbformat": 4,
 "nbformat_minor": 2
}
